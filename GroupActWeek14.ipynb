{
 "cells": [
  {
   "cell_type": "markdown",
   "id": "d80afd20",
   "metadata": {},
   "source": [
    "## GroupActWeek14"
   ]
  },
  {
   "cell_type": "markdown",
   "id": "d83892ab",
   "metadata": {},
   "source": [
    "## 1. Using the documentation for Recursive Feature Selection, apply this process to the  crime dataset to create the best multivariate linear regression model https://scikit-learn.org/stable/modules/generated/sklearn.feature_selection.RFE.html . You can select what you’re trying to predict, but be sure to indicate what that is. Be sure to explain what RFE is in the markdown. You should be able to answer this using what’s on the documentation page + what you already know."
   ]
  },
  {
   "cell_type": "markdown",
   "id": "8044e2a4",
   "metadata": {},
   "source": [
    "### Recursive Feature Selection\n",
    "\n",
    "  * Extracting valuable features of dataset is essential part of data preparation to train model in machine learning. Because if we give qualified inputs, our model will give back qualified outputs. Other wise remember the famous saying,**<font color='blue'> Garbage in Garbage Out<font>**\n",
    "    \n",
    "    \n",
    "  * Scikit-learn API provides RFE class that ranks features by recursive feature elimination to select best features. The method recursively eliminates the least important features based on specific attributes taken by estimator.\n",
    "    \n",
    "**Why Estimator?** \n",
    "    \n",
    "  * We need an estimator for RFE class. For example, a linear model or a decision tree model. These models have coefficients for linear models and feature importances in decision tree models. In selecting the optimal number of features, the estimator is trained and the features are selected via the coefficients, or via the feature importances. The least important features are removed. This process is repeated recursively until the optimal number of features is obtained."
   ]
  },
  {
   "cell_type": "code",
   "execution_count": 34,
   "id": "ac90989c",
   "metadata": {},
   "outputs": [],
   "source": [
    "import pandas as pd\n",
    "import numpy as np\n",
    "from numpy import array"
   ]
  },
  {
   "cell_type": "markdown",
   "id": "d672142c",
   "metadata": {},
   "source": [
    "The data (X1, X2, X3, X4, X5, X6, X7) are for each city.\n",
    "\n",
    "X1 = total overall reported crime rate per 1 million residents\n",
    "\n",
    "X2 = reported violent crime rate per 100,000 residents\n",
    "\n",
    "X3 = annual police funding in $/resident\n",
    "\n",
    "X4 = % of people 25 years+ with 4 yrs. of high school\n",
    "\n",
    "X5 = % of 16 to 19 year-olds not in highschool and not highschool graduates.\n",
    "\n",
    "X6 = % of 18 to 24 year-olds in college\n",
    "\n",
    "X7 = % of people 25 years+ with at least 4 years of college\n",
    "\n",
    "Reference: Life In America's Small Cities, By G.S. Thomas"
   ]
  },
  {
   "cell_type": "code",
   "execution_count": 14,
   "id": "f0265934",
   "metadata": {},
   "outputs": [
    {
     "data": {
      "text/html": [
       "<div>\n",
       "<style scoped>\n",
       "    .dataframe tbody tr th:only-of-type {\n",
       "        vertical-align: middle;\n",
       "    }\n",
       "\n",
       "    .dataframe tbody tr th {\n",
       "        vertical-align: top;\n",
       "    }\n",
       "\n",
       "    .dataframe thead th {\n",
       "        text-align: right;\n",
       "    }\n",
       "</style>\n",
       "<table border=\"1\" class=\"dataframe\">\n",
       "  <thead>\n",
       "    <tr style=\"text-align: right;\">\n",
       "      <th></th>\n",
       "      <th>X1</th>\n",
       "      <th>X2</th>\n",
       "      <th>X3</th>\n",
       "      <th>X4</th>\n",
       "      <th>X5</th>\n",
       "      <th>X6</th>\n",
       "      <th>X7</th>\n",
       "    </tr>\n",
       "  </thead>\n",
       "  <tbody>\n",
       "    <tr>\n",
       "      <th>0</th>\n",
       "      <td>478</td>\n",
       "      <td>184</td>\n",
       "      <td>40</td>\n",
       "      <td>74</td>\n",
       "      <td>11</td>\n",
       "      <td>31</td>\n",
       "      <td>20</td>\n",
       "    </tr>\n",
       "    <tr>\n",
       "      <th>1</th>\n",
       "      <td>494</td>\n",
       "      <td>213</td>\n",
       "      <td>32</td>\n",
       "      <td>72</td>\n",
       "      <td>11</td>\n",
       "      <td>43</td>\n",
       "      <td>18</td>\n",
       "    </tr>\n",
       "    <tr>\n",
       "      <th>2</th>\n",
       "      <td>643</td>\n",
       "      <td>347</td>\n",
       "      <td>57</td>\n",
       "      <td>70</td>\n",
       "      <td>18</td>\n",
       "      <td>16</td>\n",
       "      <td>16</td>\n",
       "    </tr>\n",
       "    <tr>\n",
       "      <th>3</th>\n",
       "      <td>341</td>\n",
       "      <td>565</td>\n",
       "      <td>31</td>\n",
       "      <td>71</td>\n",
       "      <td>11</td>\n",
       "      <td>25</td>\n",
       "      <td>19</td>\n",
       "    </tr>\n",
       "    <tr>\n",
       "      <th>4</th>\n",
       "      <td>773</td>\n",
       "      <td>327</td>\n",
       "      <td>67</td>\n",
       "      <td>72</td>\n",
       "      <td>9</td>\n",
       "      <td>29</td>\n",
       "      <td>24</td>\n",
       "    </tr>\n",
       "  </tbody>\n",
       "</table>\n",
       "</div>"
      ],
      "text/plain": [
       "    X1   X2  X3  X4  X5  X6  X7\n",
       "0  478  184  40  74  11  31  20\n",
       "1  494  213  32  72  11  43  18\n",
       "2  643  347  57  70  18  16  16\n",
       "3  341  565  31  71  11  25  19\n",
       "4  773  327  67  72   9  29  24"
      ]
     },
     "execution_count": 14,
     "metadata": {},
     "output_type": "execute_result"
    }
   ],
   "source": [
    "crime_df=pd.read_csv('crime_data.csv')\n",
    "crime_df.head()"
   ]
  },
  {
   "cell_type": "markdown",
   "id": "16764abf",
   "metadata": {},
   "source": [
    "### Goal:\n",
    "\n",
    "**Our dataset has 7 columns. Our purpose is decreasing those columns by selecting best 3 by their rank to fit into the model.** For this dataset our prediction column is X3 and all columns other than X3 are our input."
   ]
  },
  {
   "cell_type": "code",
   "execution_count": 54,
   "id": "35477385",
   "metadata": {},
   "outputs": [
    {
     "name": "stdout",
     "output_type": "stream",
     "text": [
      "[False False False  True  True  True]\n",
      "Ranking :  [3 4 2 1 1 1]\n",
      "All features: \n",
      "['X1' 'X2' 'X4' 'X5' 'X6' 'X7']\n",
      "Selected features: \n",
      "['X5' 'X6' 'X7']\n"
     ]
    }
   ],
   "source": [
    "X=crime_df.drop('X3',axis=1)\n",
    "y=crime_df['X3']\n",
    "\n",
    "# data splitting\n",
    "from sklearn.model_selection import train_test_split\n",
    "X_train,X_test,y_train,y_test=train_test_split(X,y,test_size=0.2,random_state=15)\n",
    "\n",
    "# we need an estimator to RFE class.\n",
    "from sklearn.linear_model import LinearRegression\n",
    "estimator=LinearRegression()\n",
    "\n",
    "# since we got our estimator now we can define our selector\n",
    "from sklearn.feature_selection import RFE\n",
    "selector=RFE(estimator,n_features_to_select=3)\n",
    "\n",
    "#fitting selctor into dataset\n",
    "selector.fit(X,y)\n",
    "\n",
    "#after fitting, we can obtain our selected features and its rank\n",
    "print(selector.support_)\n",
    "print('Ranking : ',selector.ranking_)\n",
    "\n",
    "\n",
    "#to make it readable, printing the feature names\n",
    "features =array(crime_df.columns.drop('X3'))\n",
    "print(\"All features: \")\n",
    "print(features)\n",
    "\n",
    "print(\"Selected features: \")\n",
    "print(features[selector.support_])\n",
    "  "
   ]
  },
  {
   "cell_type": "markdown",
   "id": "6013618e",
   "metadata": {},
   "source": [
    "### Accuracy Score of Multivariate Linear Regression for the RFE ranked columns"
   ]
  },
  {
   "cell_type": "code",
   "execution_count": 77,
   "id": "05e202b2",
   "metadata": {},
   "outputs": [
    {
     "name": "stdout",
     "output_type": "stream",
     "text": [
      "Accuracy score:  0.2812320383946695\n",
      "Coefficients are : [ 0.62645727 -0.25158003  0.99308483]\n"
     ]
    }
   ],
   "source": [
    "# now we can fit our multi variate linear regression model. Our X will be x5,x6,x7\n",
    "X=crime_df[['X5','X6','X7']]\n",
    "y=crime_df['X3']\n",
    "X_train,X_test,y_train,y_test=train_test_split(X,y,test_size=0.3,random_state=77)\n",
    "regressor=LinearRegression()\n",
    "regressor.fit(X_train,y_train)\n",
    "y_pred= regressor.predict(X_test)\n",
    "print(\"Accuracy score: \", regressor.score(X_test,y_test))\n",
    "print(\"Coefficients are :\",regressor.coef_)"
   ]
  },
  {
   "cell_type": "markdown",
   "id": "be0665ee",
   "metadata": {},
   "source": [
    "### Accuracy Score of Multivariate Linear Regression for the non ranked columns"
   ]
  },
  {
   "cell_type": "code",
   "execution_count": 78,
   "id": "60aff265",
   "metadata": {},
   "outputs": [
    {
     "name": "stdout",
     "output_type": "stream",
     "text": [
      "Accuracy score:  0.13581107251140456\n",
      "Coefficients are : [ 0.02298463 -0.00429206  0.13660579]\n"
     ]
    }
   ],
   "source": [
    "X=crime_df[['X1','X2','X4']]\n",
    "y=crime_df['X3']\n",
    "X_train,X_test,y_train,y_test=train_test_split(X,y,test_size=0.3,random_state=77)\n",
    "regressor=LinearRegression()\n",
    "regressor.fit(X_train,y_train)\n",
    "y_pred= regressor.predict(X_test)\n",
    "print(\"Accuracy score: \", regressor.score(X_test,y_test))\n",
    "print(\"Coefficients are :\",regressor.coef_)"
   ]
  },
  {
   "cell_type": "markdown",
   "id": "ea97dedb",
   "metadata": {},
   "source": [
    "### Observation:\n",
    "\n",
    "The accuracy score from RFE ranked columns are greater than other columns. So We can use Recursive Feature Selection method to select our best model."
   ]
  },
  {
   "cell_type": "markdown",
   "id": "c624db85",
   "metadata": {},
   "source": [
    "## 2.Create a list of preprocessing steps you should try when working to build a model. Briefly describe what each step is. Work with your group to come up with the most comprehensive list you can"
   ]
  },
  {
   "cell_type": "markdown",
   "id": "83e70fd9",
   "metadata": {},
   "source": [
    "Preprocessing Steps:\n",
    "**1. Data cleaning:**\n",
    "    * Cleaning & Handling Nans: It is the process to remove incorrect data, incomplete data and also replaces the missing values. Most common strategy for replacing Nans is, replacing with that column mean value.    \n",
    "\n",
    "**2. Data reduction:**\n",
    "This process helps in the reduction of the volume of the data which makes the analysis easier yet produces the same or almost the same result. \n",
    "    * Dimensinality Reduction\n",
    "    * Removing redundant Features    \n",
    "    \n",
    "**3. Data Transformation:**\n",
    "The change made in the format or the structure of the data is called data transformation.\n",
    "    * Encoding: The machine learning models use mathematical equations. So categorical data is not accepted, we convert it into numerical form.\n",
    "    * Standardization/Normalization: Convert our input datas to look normally distributed.(zero mean, unit variance)    "
   ]
  },
  {
   "cell_type": "code",
   "execution_count": null,
   "id": "4084c982",
   "metadata": {},
   "outputs": [],
   "source": []
  }
 ],
 "metadata": {
  "kernelspec": {
   "display_name": "Python 3 (ipykernel)",
   "language": "python",
   "name": "python3"
  },
  "language_info": {
   "codemirror_mode": {
    "name": "ipython",
    "version": 3
   },
   "file_extension": ".py",
   "mimetype": "text/x-python",
   "name": "python",
   "nbconvert_exporter": "python",
   "pygments_lexer": "ipython3",
   "version": "3.7.4"
  }
 },
 "nbformat": 4,
 "nbformat_minor": 5
}
